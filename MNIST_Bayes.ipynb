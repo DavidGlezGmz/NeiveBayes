{
  "nbformat": 4,
  "nbformat_minor": 0,
  "metadata": {
    "colab": {
      "name": "MNIST_KNN.ipynb",
      "provenance": [],
      "collapsed_sections": [],
      "mount_file_id": "1UQYXgEArBKYKLaMi3ZOKQ6Im8lfPX0GE",
      "authorship_tag": "ABX9TyOWvYAT47JtIs7bHnSA/R6H"
    },
    "kernelspec": {
      "name": "python3",
      "display_name": "Python 3"
    },
    "language_info": {
      "name": "python"
    }
  },
  "cells": [
    {
      "cell_type": "code",
      "execution_count": 20,
      "metadata": {
        "id": "rjR-kwt1b2or"
      },
      "outputs": [],
      "source": [
        "import numpy as np\n",
        "import pandas as pd\n",
        "import matplotlib.pyplot as plt\n",
        "from scipy.stats import multivariate_normal as mvn"
      ]
    },
    {
      "cell_type": "markdown",
      "source": [
        "**1. Uploading Data Train**"
      ],
      "metadata": {
        "id": "iPGUlMAtxGvq"
      }
    },
    {
      "cell_type": "code",
      "source": [
        "DTrain = pd.read_csv('https://raw.githubusercontent.com/DavidGlezGmz/NeiveBayes/main/MNIST_train.csv')\n",
        "\n",
        "print(DTrain.head(5))\n",
        "print(DTrain.shape)"
      ],
      "metadata": {
        "id": "KmVTyg_YcbLN",
        "colab": {
          "base_uri": "https://localhost:8080/"
        },
        "outputId": "0f0f59b2-183a-4568-db0c-77960d2e05c4"
      },
      "execution_count": 21,
      "outputs": [
        {
          "output_type": "stream",
          "name": "stdout",
          "text": [
            "   index  labels  0  1  2  3  4  5  6  7  ...  774  775  776  777  778  779  \\\n",
            "0      0       5  0  0  0  0  0  0  0  0  ...    0    0    0    0    0    0   \n",
            "1      1       0  0  0  0  0  0  0  0  0  ...    0    0    0    0    0    0   \n",
            "2      2       4  0  0  0  0  0  0  0  0  ...    0    0    0    0    0    0   \n",
            "3      3       1  0  0  0  0  0  0  0  0  ...    0    0    0    0    0    0   \n",
            "4      4       9  0  0  0  0  0  0  0  0  ...    0    0    0    0    0    0   \n",
            "\n",
            "   780  781  782  783  \n",
            "0    0    0    0    0  \n",
            "1    0    0    0    0  \n",
            "2    0    0    0    0  \n",
            "3    0    0    0    0  \n",
            "4    0    0    0    0  \n",
            "\n",
            "[5 rows x 786 columns]\n",
            "(54999, 786)\n"
          ]
        }
      ]
    },
    {
      "cell_type": "code",
      "source": [
        "X_train = DTrain.drop([\"labels\", \"index\"], axis=1)\n",
        "X_train_toplot = X_train\n",
        "print (X_train)\n",
        "print (X_train.shape)"
      ],
      "metadata": {
        "colab": {
          "base_uri": "https://localhost:8080/"
        },
        "id": "ECRcl27oi6-X",
        "outputId": "434169d8-b7f3-4e70-b64a-677ee9373871"
      },
      "execution_count": 22,
      "outputs": [
        {
          "output_type": "stream",
          "name": "stdout",
          "text": [
            "       0  1  2  3  4  5  6  7  8  9  ...  774  775  776  777  778  779  780  \\\n",
            "0      0  0  0  0  0  0  0  0  0  0  ...    0    0    0    0    0    0    0   \n",
            "1      0  0  0  0  0  0  0  0  0  0  ...    0    0    0    0    0    0    0   \n",
            "2      0  0  0  0  0  0  0  0  0  0  ...    0    0    0    0    0    0    0   \n",
            "3      0  0  0  0  0  0  0  0  0  0  ...    0    0    0    0    0    0    0   \n",
            "4      0  0  0  0  0  0  0  0  0  0  ...    0    0    0    0    0    0    0   \n",
            "...   .. .. .. .. .. .. .. .. .. ..  ...  ...  ...  ...  ...  ...  ...  ...   \n",
            "54994  0  0  0  0  0  0  0  0  0  0  ...    0    0    0    0    0    0    0   \n",
            "54995  0  0  0  0  0  0  0  0  0  0  ...    0    0    0    0    0    0    0   \n",
            "54996  0  0  0  0  0  0  0  0  0  0  ...    0    0    0    0    0    0    0   \n",
            "54997  0  0  0  0  0  0  0  0  0  0  ...    0    0    0    0    0    0    0   \n",
            "54998  0  0  0  0  0  0  0  0  0  0  ...    0    0    0    0    0    0    0   \n",
            "\n",
            "       781  782  783  \n",
            "0        0    0    0  \n",
            "1        0    0    0  \n",
            "2        0    0    0  \n",
            "3        0    0    0  \n",
            "4        0    0    0  \n",
            "...    ...  ...  ...  \n",
            "54994    0    0    0  \n",
            "54995    0    0    0  \n",
            "54996    0    0    0  \n",
            "54997    0    0    0  \n",
            "54998    0    0    0  \n",
            "\n",
            "[54999 rows x 784 columns]\n",
            "(54999, 784)\n"
          ]
        }
      ]
    },
    {
      "cell_type": "code",
      "source": [
        "from math import sqrt\n",
        "#St_X_train = X_train.describe()\n",
        "St_X_train = X_train.to_numpy()\n",
        "St_X_train = St_X_train.flatten()\n",
        "\n",
        "def max(n):\n",
        "  max = n[0]\n",
        "  for i in range(0, len(n)):\n",
        "    if n[i] > max:\n",
        "      max = n[i]\n",
        "  return max\n",
        "\n",
        "'''\n",
        "def min(n):\n",
        "  min = n[0]\n",
        "  for i in range(0, len(n)):\n",
        "    if n[i] < min:\n",
        "      min = n[i]\n",
        "  return min\n",
        "\n",
        "def mean(n):\n",
        "  count = 0\n",
        "  sum = n[0]\n",
        "  for i in range(0, len(n)):\n",
        "      count = count + 1\n",
        "      sum = sum + n[i]\n",
        "  mean=sum/count\n",
        "  return mean\n",
        "\n",
        "def std(n):\n",
        "  count = 0\n",
        "  sum = n[0]\n",
        "  \n",
        "  for i in range(0, len(n)):\n",
        "      count = count + 1\n",
        "      sum = sum + n[i]\n",
        "  mean=sum/count\n",
        "\n",
        "  std_sum = 0\n",
        "  for i in n:\n",
        "    std_sum += (i-mean)**2\n",
        "  std = std_sum / (count-1)\n",
        "\n",
        "  return sqrt(std)\n",
        "\n",
        "\n",
        "print(\"The max value is: \", max(St_X_train))\n",
        "print(\"The min value is: \", min(St_X_train))\n",
        "print(\"The mean is: \", mean(St_X_train))\n",
        "print(\"The std is: \", std(St_X_train))\n",
        "\n",
        "'''"
      ],
      "metadata": {
        "colab": {
          "base_uri": "https://localhost:8080/",
          "height": 88
        },
        "id": "drww6CRv3j5Z",
        "outputId": "2b4ec18b-475b-45d3-f421-c66dccdf2984"
      },
      "execution_count": 23,
      "outputs": [
        {
          "output_type": "execute_result",
          "data": {
            "text/plain": [
              "'\\ndef min(n):\\n  min = n[0]\\n  for i in range(0, len(n)):\\n    if n[i] < min:\\n      min = n[i]\\n  return min\\n\\ndef mean(n):\\n  count = 0\\n  sum = n[0]\\n  for i in range(0, len(n)):\\n      count = count + 1\\n      sum = sum + n[i]\\n  mean=sum/count\\n  return mean\\n\\ndef std(n):\\n  count = 0\\n  sum = n[0]\\n  \\n  for i in range(0, len(n)):\\n      count = count + 1\\n      sum = sum + n[i]\\n  mean=sum/count\\n\\n  std_sum = 0\\n  for i in n:\\n    std_sum += (i-mean)**2\\n  std = std_sum / (count-1)\\n\\n  return sqrt(std)\\n\\n\\nprint(\"The max value is: \", max(St_X_train))\\nprint(\"The min value is: \", min(St_X_train))\\nprint(\"The mean is: \", mean(St_X_train))\\nprint(\"The std is: \", std(St_X_train))\\n\\n'"
            ],
            "application/vnd.google.colaboratory.intrinsic+json": {
              "type": "string"
            }
          },
          "metadata": {},
          "execution_count": 23
        }
      ]
    },
    {
      "cell_type": "code",
      "source": [
        "Y_train = DTrain['labels']\n",
        "Y_train_toplot = Y_train\n",
        "print (Y_train)\n",
        "print (Y_train.shape)"
      ],
      "metadata": {
        "colab": {
          "base_uri": "https://localhost:8080/"
        },
        "id": "5wfQaPNXriFn",
        "outputId": "08abaae7-98f7-4605-e1d5-b699ef2c08bd"
      },
      "execution_count": 24,
      "outputs": [
        {
          "output_type": "stream",
          "name": "stdout",
          "text": [
            "0        5\n",
            "1        0\n",
            "2        4\n",
            "3        1\n",
            "4        9\n",
            "        ..\n",
            "54994    6\n",
            "54995    7\n",
            "54996    3\n",
            "54997    0\n",
            "54998    4\n",
            "Name: labels, Length: 54999, dtype: int64\n",
            "(54999,)\n"
          ]
        }
      ]
    },
    {
      "cell_type": "code",
      "source": [
        "plt.figure(figsize = (5,5))\n",
        "idx = 1\n",
        "\n",
        "grid_data = X_train.iloc[idx].to_numpy().reshape(28, 28)\n",
        "plt.imshow(grid_data, interpolation = \"none\", cmap = \"gray_r\")\n",
        "plt.title(Y_train[idx])\n",
        "plt.colorbar()\n"
      ],
      "metadata": {
        "colab": {
          "base_uri": "https://localhost:8080/",
          "height": 326
        },
        "id": "857uNXOK0dSx",
        "outputId": "940a6e60-3fa5-4228-8084-2157d79a0299"
      },
      "execution_count": 25,
      "outputs": [
        {
          "output_type": "execute_result",
          "data": {
            "text/plain": [
              "<matplotlib.colorbar.Colorbar at 0x7fe7993f8190>"
            ]
          },
          "metadata": {},
          "execution_count": 25
        },
        {
          "output_type": "display_data",
          "data": {
            "text/plain": [
              "<Figure size 360x360 with 2 Axes>"
            ],
            "image/png": "[encoded data removed]"
          },
          "metadata": {
            "needs_background": "light"
          }
        }
      ]
    },
    {
      "cell_type": "code",
      "source": [
        "X_train_toplot = X_train_toplot.to_numpy()\n",
        "Y_train_toplot = Y_train_toplot.to_numpy()\n",
        "\n",
        "X_train_toplot = X_train_toplot.reshape(54999,28,28)\n",
        "\n",
        "num_classes = 10\n",
        "f, ax = plt.subplots(1, num_classes, figsize=(20,20))\n",
        "\n",
        "for i in range(0, num_classes):\n",
        "  sample = X_train_toplot[Y_train_toplot == i][0]\n",
        "  ax[i].imshow(sample, cmap='gray_r')\n",
        "  ax[i].set_title(\"Label: {}\".format(i), fontsize=16)"
      ],
      "metadata": {
        "colab": {
          "base_uri": "https://localhost:8080/",
          "height": 160
        },
        "id": "jn62K6qM2inK",
        "outputId": "517bce71-a3b1-4d24-caff-91ddf0ab574b"
      },
      "execution_count": 26,
      "outputs": [
        {
          "output_type": "display_data",
          "data": {
            "text/plain": [
              "<Figure size 1440x1440 with 10 Axes>"
            ],
            "image/png": "[encoded data removed]"
          },
          "metadata": {
            "needs_background": "light"
          }
        }
      ]
    },
    {
      "cell_type": "code",
      "source": [
        "# Nomralize\n",
        "\n",
        "Max_Value = max(St_X_train)\n",
        "X_train = X_train / Max_Value\n",
        "\n",
        "print (X_train)"
      ],
      "metadata": {
        "id": "WSpM9bwdQl1t",
        "colab": {
          "base_uri": "https://localhost:8080/"
        },
        "outputId": "10847a4e-621b-4ac2-8df9-bdf5f1dc4a08"
      },
      "execution_count": 27,
      "outputs": [
        {
          "output_type": "stream",
          "name": "stdout",
          "text": [
            "         0    1    2    3    4    5    6    7    8    9  ...  774  775  776  \\\n",
            "0      0.0  0.0  0.0  0.0  0.0  0.0  0.0  0.0  0.0  0.0  ...  0.0  0.0  0.0   \n",
            "1      0.0  0.0  0.0  0.0  0.0  0.0  0.0  0.0  0.0  0.0  ...  0.0  0.0  0.0   \n",
            "2      0.0  0.0  0.0  0.0  0.0  0.0  0.0  0.0  0.0  0.0  ...  0.0  0.0  0.0   \n",
            "3      0.0  0.0  0.0  0.0  0.0  0.0  0.0  0.0  0.0  0.0  ...  0.0  0.0  0.0   \n",
            "4      0.0  0.0  0.0  0.0  0.0  0.0  0.0  0.0  0.0  0.0  ...  0.0  0.0  0.0   \n",
            "...    ...  ...  ...  ...  ...  ...  ...  ...  ...  ...  ...  ...  ...  ...   \n",
            "54994  0.0  0.0  0.0  0.0  0.0  0.0  0.0  0.0  0.0  0.0  ...  0.0  0.0  0.0   \n",
            "54995  0.0  0.0  0.0  0.0  0.0  0.0  0.0  0.0  0.0  0.0  ...  0.0  0.0  0.0   \n",
            "54996  0.0  0.0  0.0  0.0  0.0  0.0  0.0  0.0  0.0  0.0  ...  0.0  0.0  0.0   \n",
            "54997  0.0  0.0  0.0  0.0  0.0  0.0  0.0  0.0  0.0  0.0  ...  0.0  0.0  0.0   \n",
            "54998  0.0  0.0  0.0  0.0  0.0  0.0  0.0  0.0  0.0  0.0  ...  0.0  0.0  0.0   \n",
            "\n",
            "       777  778  779  780  781  782  783  \n",
            "0      0.0  0.0  0.0  0.0  0.0  0.0  0.0  \n",
            "1      0.0  0.0  0.0  0.0  0.0  0.0  0.0  \n",
            "2      0.0  0.0  0.0  0.0  0.0  0.0  0.0  \n",
            "3      0.0  0.0  0.0  0.0  0.0  0.0  0.0  \n",
            "4      0.0  0.0  0.0  0.0  0.0  0.0  0.0  \n",
            "...    ...  ...  ...  ...  ...  ...  ...  \n",
            "54994  0.0  0.0  0.0  0.0  0.0  0.0  0.0  \n",
            "54995  0.0  0.0  0.0  0.0  0.0  0.0  0.0  \n",
            "54996  0.0  0.0  0.0  0.0  0.0  0.0  0.0  \n",
            "54997  0.0  0.0  0.0  0.0  0.0  0.0  0.0  \n",
            "54998  0.0  0.0  0.0  0.0  0.0  0.0  0.0  \n",
            "\n",
            "[54999 rows x 784 columns]\n"
          ]
        }
      ]
    },
    {
      "cell_type": "markdown",
      "source": [
        "**2. Uploading Data Test**"
      ],
      "metadata": {
        "id": "uUjvUA4Fxcaa"
      }
    },
    {
      "cell_type": "code",
      "source": [
        "DTest = pd.read_csv('https://raw.githubusercontent.com/DavidGlezGmz/NeiveBayes/main/MNIST_test.csv')\n",
        "\n",
        "print(DTest.head(5))\n",
        "print(DTest.shape)"
      ],
      "metadata": {
        "colab": {
          "base_uri": "https://localhost:8080/"
        },
        "id": "otwvexX8ueKC",
        "outputId": "5027912a-577b-48cc-d1c2-869624be7b34"
      },
      "execution_count": 28,
      "outputs": [
        {
          "output_type": "stream",
          "name": "stdout",
          "text": [
            "   index  labels  0  1  2  3  4  5  6  7  ...  774  775  776  777  778  779  \\\n",
            "0      0       7  0  0  0  0  0  0  0  0  ...    0    0    0    0    0    0   \n",
            "1      1       2  0  0  0  0  0  0  0  0  ...    0    0    0    0    0    0   \n",
            "2      2       1  0  0  0  0  0  0  0  0  ...    0    0    0    0    0    0   \n",
            "3      3       0  0  0  0  0  0  0  0  0  ...    0    0    0    0    0    0   \n",
            "4      4       4  0  0  0  0  0  0  0  0  ...    0    0    0    0    0    0   \n",
            "\n",
            "   780  781  782  783  \n",
            "0    0    0    0    0  \n",
            "1    0    0    0    0  \n",
            "2    0    0    0    0  \n",
            "3    0    0    0    0  \n",
            "4    0    0    0    0  \n",
            "\n",
            "[5 rows x 786 columns]\n",
            "(10000, 786)\n"
          ]
        }
      ]
    },
    {
      "cell_type": "code",
      "source": [
        "X_test = DTest.drop([\"labels\", \"index\"], axis=1)\n",
        "X_test_toplot = X_test\n",
        "print (X_test)\n",
        "print (X_test.shape)"
      ],
      "metadata": {
        "colab": {
          "base_uri": "https://localhost:8080/"
        },
        "id": "Tr2zkTZlvGnp",
        "outputId": "4f5183ec-b925-49d2-8bf0-b21268da2570"
      },
      "execution_count": 29,
      "outputs": [
        {
          "output_type": "stream",
          "name": "stdout",
          "text": [
            "      0  1  2  3  4  5  6  7  8  9  ...  774  775  776  777  778  779  780  \\\n",
            "0     0  0  0  0  0  0  0  0  0  0  ...    0    0    0    0    0    0    0   \n",
            "1     0  0  0  0  0  0  0  0  0  0  ...    0    0    0    0    0    0    0   \n",
            "2     0  0  0  0  0  0  0  0  0  0  ...    0    0    0    0    0    0    0   \n",
            "3     0  0  0  0  0  0  0  0  0  0  ...    0    0    0    0    0    0    0   \n",
            "4     0  0  0  0  0  0  0  0  0  0  ...    0    0    0    0    0    0    0   \n",
            "...  .. .. .. .. .. .. .. .. .. ..  ...  ...  ...  ...  ...  ...  ...  ...   \n",
            "9995  0  0  0  0  0  0  0  0  0  0  ...    0    0    0    0    0    0    0   \n",
            "9996  0  0  0  0  0  0  0  0  0  0  ...    0    0    0    0    0    0    0   \n",
            "9997  0  0  0  0  0  0  0  0  0  0  ...    0    0    0    0    0    0    0   \n",
            "9998  0  0  0  0  0  0  0  0  0  0  ...    0    0    0    0    0    0    0   \n",
            "9999  0  0  0  0  0  0  0  0  0  0  ...    0    0    0    0    0    0    0   \n",
            "\n",
            "      781  782  783  \n",
            "0       0    0    0  \n",
            "1       0    0    0  \n",
            "2       0    0    0  \n",
            "3       0    0    0  \n",
            "4       0    0    0  \n",
            "...   ...  ...  ...  \n",
            "9995    0    0    0  \n",
            "9996    0    0    0  \n",
            "9997    0    0    0  \n",
            "9998    0    0    0  \n",
            "9999    0    0    0  \n",
            "\n",
            "[10000 rows x 784 columns]\n",
            "(10000, 784)\n"
          ]
        }
      ]
    },
    {
      "cell_type": "code",
      "source": [
        "Y_test = DTest['labels']\n",
        "Y_test_toplot = Y_test\n",
        "print (Y_test)\n",
        "print (Y_test.shape)"
      ],
      "metadata": {
        "colab": {
          "base_uri": "https://localhost:8080/"
        },
        "id": "PbOzM6zdxsZs",
        "outputId": "f90881a7-778c-4041-ed53-f47ac2e52989"
      },
      "execution_count": 30,
      "outputs": [
        {
          "output_type": "stream",
          "name": "stdout",
          "text": [
            "0       7\n",
            "1       2\n",
            "2       1\n",
            "3       0\n",
            "4       4\n",
            "       ..\n",
            "9995    2\n",
            "9996    3\n",
            "9997    4\n",
            "9998    5\n",
            "9999    6\n",
            "Name: labels, Length: 10000, dtype: int64\n",
            "(10000,)\n"
          ]
        }
      ]
    },
    {
      "cell_type": "code",
      "source": [
        "plt.figure(figsize = (5,5))\n",
        "idx = 1\n",
        "\n",
        "grid_data = X_test.iloc[idx].to_numpy().reshape(28, 28)\n",
        "plt.imshow(grid_data, interpolation = \"none\", cmap = \"gray_r\")\n",
        "plt.title(Y_test[idx])\n",
        "plt.colorbar()"
      ],
      "metadata": {
        "colab": {
          "base_uri": "https://localhost:8080/",
          "height": 326
        },
        "id": "b6i31UL4yA4L",
        "outputId": "07bfcac9-58de-4c9f-8523-57e9046ccdf5"
      },
      "execution_count": 31,
      "outputs": [
        {
          "output_type": "execute_result",
          "data": {
            "text/plain": [
              "<matplotlib.colorbar.Colorbar at 0x7fe799f22810>"
            ]
          },
          "metadata": {},
          "execution_count": 31
        },
        {
          "output_type": "display_data",
          "data": {
            "text/plain": [
              "<Figure size 360x360 with 2 Axes>"
            ],
            "image/png": "[encoded data removed]"
          },
          "metadata": {
            "needs_background": "light"
          }
        }
      ]
    },
    {
      "cell_type": "code",
      "source": [
        "X_test_toplot = X_test_toplot.to_numpy()\n",
        "Y_test_toplot = Y_test_toplot.to_numpy()\n",
        "\n",
        "X_test_toplot = X_test_toplot.reshape(10000,28,28)\n",
        "\n",
        "num_classes = 10\n",
        "f, ax = plt.subplots(1, num_classes, figsize=(20,20))\n",
        "\n",
        "for i in range(0, num_classes):\n",
        "  sample = X_test_toplot[Y_test_toplot == i][0]\n",
        "  ax[i].imshow(sample, cmap='gray_r')\n",
        "  ax[i].set_title(\"Label: {}\".format(i), fontsize=16)"
      ],
      "metadata": {
        "colab": {
          "base_uri": "https://localhost:8080/",
          "height": 160
        },
        "id": "4hosqlVXH-gH",
        "outputId": "d8bed70b-cc1e-4f67-8764-2b001982f9dd"
      },
      "execution_count": 32,
      "outputs": [
        {
          "output_type": "display_data",
          "data": {
            "text/plain": [
              "<Figure size 1440x1440 with 10 Axes>"
            ],
            "image/png": "[encoded data removed]"
          },
          "metadata": {
            "needs_background": "light"
          }
        }
      ]
    },
    {
      "cell_type": "markdown",
      "source": [
        "**3. Naive Bayes classifier**"
      ],
      "metadata": {
        "id": "K3Be6sjuyMos"
      }
    },
    {
      "cell_type": "code",
      "source": [
        "class GaussNB():\n",
        "\n",
        "  def fit(self, x, y, epsilon = 1e-3):\n",
        "    self.likelihoods = dict()\n",
        "    self.priors = dict()\n",
        "\n",
        "    self.K = set(y.astype(int))\n",
        "\n",
        "    for k in self.K:\n",
        "\n",
        "      x_k = x[y==k,:]\n",
        "\n",
        "      self.likelihoods[k] = {\"mean\": x_k.mean(axis=0), \"cov\": x_k.var(axis=0) + epsilon}\n",
        "      self.priors[k] = len(x_k)/len(x)\n",
        "\n",
        "  def predict(self, x):\n",
        "\n",
        "    N, D = x.shape\n",
        "    P_hat = np.zeros ((N,len(self.K)))\n",
        "\n",
        "    for k, l in self.likelihoods.items():\n",
        "      P_hat[:, k] = mvn.logpdf(x, l[\"mean\"], l[\"cov\"]) + np.log(self.priors[k])\n",
        "    \n",
        "    return P_hat.argmax(axis=1)"
      ],
      "metadata": {
        "id": "Dn_FxWMzUqkh"
      },
      "execution_count": 33,
      "outputs": []
    },
    {
      "cell_type": "code",
      "source": [
        "gnb = GaussNB()"
      ],
      "metadata": {
        "id": "gJ1g1X9LdWXR"
      },
      "execution_count": 34,
      "outputs": []
    },
    {
      "cell_type": "code",
      "source": [
        "gnb.fit(X_train.to_numpy(), Y_train.to_numpy())"
      ],
      "metadata": {
        "id": "y97lx7dfdX4Z"
      },
      "execution_count": 35,
      "outputs": []
    },
    {
      "cell_type": "code",
      "source": [
        "y_hat_train=gnb.predict(X_train)\n",
        "y_hat_test=gnb.predict(X_test)"
      ],
      "metadata": {
        "id": "eVH1CoVZi75h"
      },
      "execution_count": 36,
      "outputs": []
    },
    {
      "cell_type": "code",
      "source": [
        "def accuracy(y,y_hat):\n",
        "  return np.mean(y==y_hat)\n",
        "\n",
        "print(\"GaussNB Accurancy for Training: \", (accuracy(Y_train, y_hat_train))*100)\n",
        "print(\"GaussNB Accurancy for Testing: \", (accuracy(Y_test, y_hat_test))*100)"
      ],
      "metadata": {
        "colab": {
          "base_uri": "https://localhost:8080/"
        },
        "id": "UIobhQb6jUJm",
        "outputId": "7b225908-00ed-46ec-f0a7-6f01e2dde80f"
      },
      "execution_count": 37,
      "outputs": [
        {
          "output_type": "stream",
          "name": "stdout",
          "text": [
            "GaussNB Accurancy for Training:  76.42138947980872\n",
            "GaussNB Accurancy for Testing:  65.49000000000001\n"
          ]
        }
      ]
    },
    {
      "cell_type": "code",
      "source": [
        "class GaussBayes():\n",
        "  \n",
        "  def fit (self, x, y, epsilon = 1e-3):\n",
        "    self.likelihoods = dict()\n",
        "    self.priors = dict()\n",
        "\n",
        "    self.K = set(y.astype(int))\n",
        "\n",
        "    for k in self.K:\n",
        "      x_k = x[y==k,:]\n",
        "      N_k, D = x_k.shape\n",
        "      mu_k = x_k.mean(axis=0)\n",
        "\n",
        "      self.priors[k]=len(x_k)/len(x)\n",
        "      self.likelihoods[k]={\"mean\": x_k.mean(axis=0), \"cov\":(1/(N_k-1))*np.matmul((x_k-mu_k).T,x_k-mu_k)+epsilon*np.identity(D)}\n",
        "          \n",
        "  \n",
        "  def predict(self, x):\n",
        "    N,D = x.shape\n",
        "    P_hat = np.zeros((N, len(self.K)))\n",
        "\n",
        "    for k, l in self.likelihoods.items():\n",
        "      P_hat[:,k] = mvn.logpdf(x,l[\"mean\"], l[\"cov\"])+np.log(self.priors[k])\n",
        "\n",
        "    return P_hat.argmax(axis=1)"
      ],
      "metadata": {
        "id": "iLzjbKRrmfOt"
      },
      "execution_count": 38,
      "outputs": []
    },
    {
      "cell_type": "code",
      "source": [
        "gbayes = GaussBayes()"
      ],
      "metadata": {
        "id": "CQP7wCaMpHmR"
      },
      "execution_count": 39,
      "outputs": []
    },
    {
      "cell_type": "code",
      "source": [
        "gbayes.fit(X_train.to_numpy(), Y_train.to_numpy())"
      ],
      "metadata": {
        "id": "fjJ9MqYDpJec"
      },
      "execution_count": 40,
      "outputs": []
    },
    {
      "cell_type": "code",
      "source": [
        "y_hat_gb_train = gbayes.predict(X_train)\n",
        "y_hat_gb_test = gbayes.predict(X_test)"
      ],
      "metadata": {
        "id": "tvzBQ5fppUuc"
      },
      "execution_count": 41,
      "outputs": []
    },
    {
      "cell_type": "code",
      "source": [
        "print(\"GaussBayes Accurancy for Training: \", (accuracy(Y_train, y_hat_gb_train)*100))\n",
        "print(\"GaussBayes Accurancy for Testing: \", (accuracy(Y_test, y_hat_gb_test)*100))"
      ],
      "metadata": {
        "colab": {
          "base_uri": "https://localhost:8080/"
        },
        "id": "pErAjyXSpnzf",
        "outputId": "6b60f58b-ba22-43e5-9410-006620f6c010"
      },
      "execution_count": 42,
      "outputs": [
        {
          "output_type": "stream",
          "name": "stdout",
          "text": [
            "GaussBayes Accurancy for Training:  93.11805669193986\n",
            "GaussBayes Accurancy for Testing:  86.25\n"
          ]
        }
      ]
    },
    {
      "cell_type": "code",
      "source": [
        "from sklearn.metrics import confusion_matrix\n",
        "\n",
        "conf_mat = confusion_matrix(Y_test, y_hat_gb_test)\n",
        "print(conf_mat)"
      ],
      "metadata": {
        "colab": {
          "base_uri": "https://localhost:8080/"
        },
        "id": "kg6PsPz8zW7j",
        "outputId": "a133f989-69df-46e7-9b1f-365b8ea14c65"
      },
      "execution_count": 43,
      "outputs": [
        {
          "output_type": "stream",
          "name": "stdout",
          "text": [
            "[[939   0  10   6   0   5   3   1  16   0]\n",
            " [  0 561  46   4   8   0   7   0 509   0]\n",
            " [  3   0 983  10   1   0   1   4  30   0]\n",
            " [  3   0  25 907   1   9   0   4  58   3]\n",
            " [  0   0  26   1 921   0   1   5  22   6]\n",
            " [  4   0   9  42   2 749   6   1  75   4]\n",
            " [  9   0  13   1   5  22 880   0  28   0]\n",
            " [  0   0  17  12  25   1   0 904  31  38]\n",
            " [  6   0  21  23   3   6   0   4 909   2]\n",
            " [  4   0   6  13  36   1   0  23  54 872]]\n"
          ]
        }
      ]
    },
    {
      "cell_type": "code",
      "source": [
        "import seaborn as sns\n",
        "\n",
        "plt.figure(figsize=(8,8))\n",
        "sns.heatmap(conf_mat, annot=True, linewidths=.5, square = True, cmap = 'Reds_r');\n",
        "plt.ylabel('Actual label')\n",
        "plt.xlabel('Predicted label')\n",
        "all_sample_title = 'CONFUSION MATRIX'\n",
        "plt.title(all_sample_title);"
      ],
      "metadata": {
        "colab": {
          "base_uri": "https://localhost:8080/",
          "height": 472
        },
        "id": "LmmrKQry55X-",
        "outputId": "6d889d15-40ed-4bfb-a273-7198d181496e"
      },
      "execution_count": 44,
      "outputs": [
        {
          "output_type": "display_data",
          "data": {
            "text/plain": [
              "<Figure size 576x576 with 2 Axes>"
            ],
            "image/png": "[encoded data removed]"
          },
          "metadata": {
            "needs_background": "light"
          }
        }
      ]
    }
  ]
}